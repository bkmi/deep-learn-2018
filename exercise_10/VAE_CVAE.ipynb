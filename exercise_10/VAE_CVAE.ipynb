{
 "cells": [
  {
   "cell_type": "code",
   "execution_count": null,
   "metadata": {},
   "outputs": [],
   "source": [
    "%matplotlib inline\n",
    "from mpl_toolkits.mplot3d import Axes3D\n",
    "import matplotlib.pyplot as plt\n",
    "import numpy as np\n",
    "import tensorflow as tf"
   ]
  },
  {
   "cell_type": "code",
   "execution_count": null,
   "metadata": {},
   "outputs": [],
   "source": [
    "with np.load('vae-cvae-challenge.npz') as fh:\n",
    "    images, labels = fh['data_x'], fh['data_y']\n",
    "    images = np.reshape(images, newshape=[-1, 28, 28, 1])\n",
    "print(f'image shape: {images.shape}, labels shape: {labels.shape}')"
   ]
  },
  {
   "cell_type": "code",
   "execution_count": null,
   "metadata": {},
   "outputs": [],
   "source": [
    "def VAE:\n",
    "    def __init__(batch_size=32, latent_dim=1):\n",
    "        self.is_training = tf.placeholder_with_default(True, shape=())\n",
    "        self.latent_dim = latent_dim\n",
    "        self.batch_size = batch_size\n",
    "        \n",
    "        self.z_mean, self.z_log_var = _encoder()\n",
    "        self.decoded = _decoder()\n",
    "        \n",
    "        # think about the time when u want to build this graph\n",
    "        samples = tf.random_normal((self.batch_size, self.laten_dim),\n",
    "                                   mean=0.,\n",
    "                                   stddev=1.,\n",
    "                                   dtype=tf.float32)\n",
    "        self.z = latent_mean + tf.sqrt(tf.exp(self.z_log_var)) * samples\n",
    "        \n",
    "        # need loss and optimization routine\n",
    "        \n",
    "    def _encoder():\n",
    "        with tf.contrib.framework.arg_scope([tf.layers.conv2d, tf.layers.max_pooling2d],\n",
    "                                            activation_fn='relu', \n",
    "                                            filters=20, \n",
    "                                            kernel_size=5, \n",
    "                                            padding='same', \n",
    "                                            activation='relu', \n",
    "                                            pool_size=2, \n",
    "                                            strides=1):\n",
    "            x = tf.layers.conv2d(self.input, filters=16)\n",
    "            x = tf.layers.max_pooling2d(x)\n",
    "            x = tf.layers.conv2d(x)\n",
    "            x = tf.layers.max_pooling2d(x)\n",
    "            x = tf.layers.conv2d(x)\n",
    "            x = tf.layers.max_pooling2d(x)\n",
    "        z_mean = tf.layers.dense(x, units=self.latent_dim)\n",
    "        z_log_var = Dense(x, units=self.latent_dim)\n",
    "        return z_mean, z_log_var\n",
    "        \n",
    "    def _decoder():\n",
    "        with tf.contrib.framework.arg_scope([tf.layers.conv2d_transpose],\n",
    "                                            strides=2,\n",
    "                                            padding='valid',\n",
    "                                            activation=tf.nn.relu):\n",
    "            x = tf.layers.dense(self.z, units=4)\n",
    "            x = tf.reshape(x, shape=[1,2,2,1])\n",
    "            x = tf.layers.conv2d_transpose(x, filters=20, kernel_size=5)  # 1, 7, 7, 1\n",
    "            x = tf.layers.conv2d_transpose(x, filters=20, kernel_size=7)  # 1, 19, 19, 1\n",
    "            x = tf.layers.conv2d_transpose(x, filters=16, strides=1, kernel_size=10)  # 1, 28, 28, 1\n",
    "            decoded = tf.layers.conv2d_transpose(x, filters=1, strides=1, kernel_size=10)  # 1, 28, 28, 1\n",
    "        return decoded\n",
    "    \n",
    "    def train(batch_size):\n",
    "        # first encode\n",
    "        # sample\n",
    "        samples = tf.random_normal((self.batch_size, self.laten_dim),\n",
    "                                   mean=0.,\n",
    "                                   stddev=1.,\n",
    "                                   dtype=tf.float32)\n",
    "        self.z = latent_mean + tf.sqrt(tf.exp(self.z_log_var)) * samples\n",
    "        # decode"
   ]
  }
 ],
 "metadata": {
  "kernelspec": {
   "display_name": "Python 3",
   "language": "python",
   "name": "python3"
  },
  "language_info": {
   "codemirror_mode": {
    "name": "ipython",
    "version": 3
   },
   "file_extension": ".py",
   "mimetype": "text/x-python",
   "name": "python",
   "nbconvert_exporter": "python",
   "pygments_lexer": "ipython3",
   "version": "3.6.5"
  }
 },
 "nbformat": 4,
 "nbformat_minor": 2
}
